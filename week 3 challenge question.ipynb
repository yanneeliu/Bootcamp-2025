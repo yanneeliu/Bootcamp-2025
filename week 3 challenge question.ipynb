{
 "cells": [
  {
   "cell_type": "code",
   "execution_count": 2,
   "metadata": {},
   "outputs": [
    {
     "name": "stdout",
     "output_type": "stream",
     "text": [
      "the total cost for 80 apples is 120.0 dollas\n"
     ]
    }
   ],
   "source": [
    "price_apple= float(1.5)\n",
    "num_apple= int(input(\"How many apples?\"))\n",
    "total_cost = price_apple * num_apple\n",
    "print(\"the total cost for {} apples is {} dollas\" .format(num_apple, total_cost))\n"
   ]
  }
 ],
 "metadata": {
  "kernelspec": {
   "display_name": "bootcamp",
   "language": "python",
   "name": "python3"
  },
  "language_info": {
   "codemirror_mode": {
    "name": "ipython",
    "version": 3
   },
   "file_extension": ".py",
   "mimetype": "text/x-python",
   "name": "python",
   "nbconvert_exporter": "python",
   "pygments_lexer": "ipython3",
   "version": "3.10.16"
  }
 },
 "nbformat": 4,
 "nbformat_minor": 2
}
