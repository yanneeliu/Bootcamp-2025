{
 "cells": [
  {
   "cell_type": "code",
   "execution_count": null,
   "metadata": {},
   "outputs": [
    {
     "name": "stdout",
     "output_type": "stream",
     "text": [
      "You are not an adult.\n"
     ]
    }
   ],
   "source": [
    "#prompts the user to enter their age\n",
    "try:\n",
    "    ans = int( input(\"What is your age? \"))\n",
    "    if ans >18:\n",
    "        print (\"You are an adult.\")\n",
    "    elif ans<18:\n",
    "        print (\"You are not an adult.\")\n",
    "except:\n",
    "    print (\"You did not put in a valid number, please enter a whole number\")\n",
    "\n",
    "\n",
    "\n",
    "\n"
   ]
  }
 ],
 "metadata": {
  "kernelspec": {
   "display_name": "bootcamp",
   "language": "python",
   "name": "python3"
  },
  "language_info": {
   "codemirror_mode": {
    "name": "ipython",
    "version": 3
   },
   "file_extension": ".py",
   "mimetype": "text/x-python",
   "name": "python",
   "nbconvert_exporter": "python",
   "pygments_lexer": "ipython3",
   "version": "3.10.16"
  }
 },
 "nbformat": 4,
 "nbformat_minor": 2
}
